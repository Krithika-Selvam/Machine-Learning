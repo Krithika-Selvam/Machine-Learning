{
  "nbformat": 4,
  "nbformat_minor": 0,
  "metadata": {
    "colab": {
      "name": "full data process.ipynb",
      "provenance": [],
      "collapsed_sections": [],
      "authorship_tag": "ABX9TyNSReJzKvEQiu+WhkSFFVvG",
      "include_colab_link": true
    },
    "kernelspec": {
      "name": "python3",
      "display_name": "Python 3"
    }
  },
  "cells": [
    {
      "cell_type": "markdown",
      "metadata": {
        "id": "view-in-github",
        "colab_type": "text"
      },
      "source": [
        "<a href=\"https://colab.research.google.com/github/Krithika-Selvam/Machine-Learning/blob/main/full_data_process.ipynb\" target=\"_parent\"><img src=\"https://colab.research.google.com/assets/colab-badge.svg\" alt=\"Open In Colab\"/></a>"
      ]
    },
    {
      "cell_type": "code",
      "metadata": {
        "id": "euApKVXu23yA"
      },
      "source": [
        "import pandas as pd\r\n",
        "import numpy as np"
      ],
      "execution_count": 20,
      "outputs": []
    },
    {
      "cell_type": "code",
      "metadata": {
        "id": "u0J_ighy8_z9"
      },
      "source": [
        "df=pd.read_csv('project.csv')\r\n",
        "df.head()"
      ],
      "execution_count": null,
      "outputs": []
    },
    {
      "cell_type": "code",
      "metadata": {
        "id": "ry3COm5G9xYf"
      },
      "source": [
        "from sklearn.model_selection import train_test_split\r\n",
        "x=df[['cs41','cs42','cs43','10th','12th','att','fp/aarnps','travh','netcon','rev']].values\r\n",
        "y=df['semgpa'].values\r\n",
        "x"
      ],
      "execution_count": null,
      "outputs": []
    },
    {
      "cell_type": "code",
      "metadata": {
        "id": "JPRUjPbp_Jg-"
      },
      "source": [
        "x_train,x_test,y_train,y_test=train_test_split(x,y,test_size=0.1,random_state=42)\r\n",
        "#normalize bteween 0 and 1\r\n",
        "from sklearn.preprocessing import MinMaxScaler\r\n",
        "scaler=MinMaxScaler()\r\n",
        "scaler.fit(x_train)\r\n",
        "x_train=scaler.transform(x_train)\r\n",
        "x_test=scaler.transform(x_test)\r\n",
        "x_train\r\n",
        "x_test\r\n"
      ],
      "execution_count": null,
      "outputs": []
    },
    {
      "cell_type": "code",
      "metadata": {
        "id": "mCQIlTCzBqaQ"
      },
      "source": [
        "from tensorflow.keras.models import Sequential\r\n",
        "from tensorflow.keras.layers import Dense\r\n",
        "model=Sequential()\r\n",
        "model.add(Dense(4,activation='relu'))\r\n",
        "model.add(Dense(4,activation='relu'))\r\n",
        "model.add(Dense(4,activation='relu'))\r\n",
        "model.add(Dense(4,activation='relu'))\r\n",
        "#model.add(Dense(4,activation='relu'))\r\n",
        "#model.add(Dense(4,activation='relu'))\r\n",
        "#model.add(Dense(4,activation='relu'))\r\n",
        "model.add(Dense(1))\r\n",
        "model.compile(optimizer='rmsprop',loss='mse')\r\n"
      ],
      "execution_count": 83,
      "outputs": []
    },
    {
      "cell_type": "code",
      "metadata": {
        "id": "7nlNS74dFcqI"
      },
      "source": [
        "model.fit(x=x_train,y=y_train,epochs=700)#one pass over the dataset"
      ],
      "execution_count": null,
      "outputs": []
    },
    {
      "cell_type": "code",
      "metadata": {
        "id": "MP-xu14eGTja"
      },
      "source": [
        "pd.DataFrame(model.history.history)"
      ],
      "execution_count": null,
      "outputs": []
    },
    {
      "cell_type": "code",
      "metadata": {
        "id": "rm2S07ZYGplb"
      },
      "source": [
        "model.evaluate(x_test,y_test,verbose=0)"
      ],
      "execution_count": null,
      "outputs": []
    },
    {
      "cell_type": "code",
      "metadata": {
        "id": "-Dg6rN5AHLlJ"
      },
      "source": [
        "model.evaluate(x_train,y_train,verbose=0)"
      ],
      "execution_count": null,
      "outputs": []
    },
    {
      "cell_type": "code",
      "metadata": {
        "id": "rrlEzctuH5gr"
      },
      "source": [
        "test_predictions=model.predict(x_test)\r\n",
        "test_predictions"
      ],
      "execution_count": null,
      "outputs": []
    },
    {
      "cell_type": "code",
      "metadata": {
        "id": "Ecun1XsdIPNf"
      },
      "source": [
        "test_predictions=pd.Series(test_predictions.reshape(32,))\r\n",
        "test_predictions\r\n"
      ],
      "execution_count": null,
      "outputs": []
    },
    {
      "cell_type": "code",
      "metadata": {
        "id": "Nx8i-cGII0Uz"
      },
      "source": [
        "pred_df=pd.DataFrame(y_test,columns=['Prediction Values'])\r\n",
        "pred_df=pd.concat([pred_df,test_predictions],axis=1)\r\n",
        "pred_df.columns=['test true Y','model predictions']\r\n",
        "pred_df"
      ],
      "execution_count": null,
      "outputs": []
    },
    {
      "cell_type": "code",
      "metadata": {
        "id": "ym3MaWoqLi_l"
      },
      "source": [
        "from sklearn.metrics import mean_absolute_error,mean_squared_error\r\n",
        "mean_absolute_error(pred_df['test true Y'],pred_df['model predictions'])"
      ],
      "execution_count": null,
      "outputs": []
    }
  ]
}