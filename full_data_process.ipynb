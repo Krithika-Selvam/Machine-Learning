{
  "nbformat": 4,
  "nbformat_minor": 0,
  "metadata": {
    "colab": {
      "name": "full data process.ipynb",
      "provenance": [],
      "collapsed_sections": [],
      "authorship_tag": "ABX9TyNSReJzKvEQiu+WhkSFFVvG",
      "include_colab_link": true
    },
    "kernelspec": {
      "name": "python3",
      "display_name": "Python 3"
    }
  },
  "cells": [
    {
      "cell_type": "markdown",
      "metadata": {
        "id": "view-in-github",
        "colab_type": "text"
      },
      "source": [
        "<a href=\"https://colab.research.google.com/github/Krithika-Selvam/Machine-Learning/blob/main/full_data_process.ipynb\" target=\"_parent\"><img src=\"https://colab.research.google.com/assets/colab-badge.svg\" alt=\"Open In Colab\"/></a>"
      ]
    },
    {
      "cell_type": "code",
      "metadata": {
        "id": "euApKVXu23yA"
      },
      "source": [
        "import pandas as pd\r\n",
        "import numpy as np"
      ],
      "execution_count": 20,
      "outputs": []
    },
    {
      "cell_type": "code",
      "metadata": {
        "id": "u0J_ighy8_z9"
      },
      "source": [
        "df=pd.read_csv('project.csv')\r\n",
        "df.head()"
      ],
      "execution_count": null,
      "outputs": []
    },
    {
      "cell_type": "code",
      "metadata": {
        "id": "ry3COm5G9xYf"
      },
      "source": [
        "from sklearn.model_selection import train_test_split\r\n",
        "x=df[['cs41','cs42','cs43','10th','12th','att','fp/aarnps','travh','netcon','rev']].values\r\n",
        "y=df['semgpa'].values\r\n",
        "x"
      ],
      "execution_count": null,
      "outputs": []
    },
    {
      "cell_type": "code",
      "metadata": {
        "id": "JPRUjPbp_Jg-"
      },
      "source": [
        "x_train,x_test,y_train,y_test=train_test_split(x,y,test_size=0.1,random_state=42)\r\n",
        "#normalize bteween 0 and 1\r\n",
        "from sklearn.preprocessing import MinMaxScaler\r\n",
        "scaler=MinMaxScaler()\r\n",
        "scaler.fit(x_train)\r\n",
        "x_train=scaler.transform(x_train)\r\n",
        "x_test=scaler.transform(x_test)\r\n",
        "x_train\r\n",
        "x_test\r\n"
      ],
      "execution_count": null,
      "outputs": []
    },
    {
      "cell_type": "code",
      "metadata": {
        "id": "mCQIlTCzBqaQ"
      },
      "source": [
        "from tensorflow.keras.models import Sequential\r\n",
        "from tensorflow.keras.layers import Dense\r\n",
        "model=Sequential()\r\n",
        "model.add(Dense(4,activation='relu'))\r\n",
        "model.add(Dense(4,activation='relu'))\r\n",
        "model.add(Dense(4,activation='relu'))\r\n",
        "model.add(Dense(4,activation='relu'))\r\n",
        "#model.add(Dense(4,activation='relu'))\r\n",
        "#model.add(Dense(4,activation='relu'))\r\n",
        "#model.add(Dense(4,activation='relu'))\r\n",
        "model.add(Dense(1))\r\n",
        "model.compile(optimizer='rmsprop',loss='mse')\r\n"
      ],
      "execution_count": 83,
      "outputs": []
    },
    {
      "cell_type": "code",
      "metadata": {
        "id": "7nlNS74dFcqI"
      },
      "source": [
        "model.fit(x=x_train,y=y_train,epochs=700)#one pass over the dataset"
      ],
      "execution_count": null,
      "outputs": []
    },
    {
      "cell_type": "code",
      "metadata": {
        "id": "MP-xu14eGTja"
      },
      "source": [
        "pd.DataFrame(model.history.history)"
      ],
      "execution_count": null,
      "outputs": []
    },
    {
      "cell_type": "code",
      "metadata": {
        "colab": {
          "base_uri": "https://localhost:8080/"
        },
        "id": "rm2S07ZYGplb",
        "outputId": "4f802739-d6c1-4190-f47a-553382e07f1c"
      },
      "source": [
        "model.evaluate(x_test,y_test,verbose=0)"
      ],
      "execution_count": 85,
      "outputs": [
        {
          "output_type": "execute_result",
          "data": {
            "text/plain": [
              "72.1780776977539"
            ]
          },
          "metadata": {
            "tags": []
          },
          "execution_count": 85
        }
      ]
    },
    {
      "cell_type": "code",
      "metadata": {
        "id": "-Dg6rN5AHLlJ"
      },
      "source": [
        "model.evaluate(x_train,y_train,verbose=0)"
      ],
      "execution_count": null,
      "outputs": []
    },
    {
      "cell_type": "code",
      "metadata": {
        "id": "rrlEzctuH5gr"
      },
      "source": [
        "test_predictions=model.predict(x_test)\r\n",
        "test_predictions"
      ],
      "execution_count": null,
      "outputs": []
    },
    {
      "cell_type": "code",
      "metadata": {
        "id": "Ecun1XsdIPNf"
      },
      "source": [
        "test_predictions=pd.Series(test_predictions.reshape(32,))\r\n",
        "test_predictions\r\n"
      ],
      "execution_count": null,
      "outputs": []
    },
    {
      "cell_type": "code",
      "metadata": {
        "colab": {
          "base_uri": "https://localhost:8080/",
          "height": 994
        },
        "id": "Nx8i-cGII0Uz",
        "outputId": "4061683a-9318-4d29-9afd-3edf489c82c8"
      },
      "source": [
        "pred_df=pd.DataFrame(y_test,columns=['Prediction Values'])\r\n",
        "pred_df=pd.concat([pred_df,test_predictions],axis=1)\r\n",
        "pred_df.columns=['test true Y','model predictions']\r\n",
        "pred_df"
      ],
      "execution_count": 90,
      "outputs": [
        {
          "output_type": "execute_result",
          "data": {
            "text/html": [
              "<div>\n",
              "<style scoped>\n",
              "    .dataframe tbody tr th:only-of-type {\n",
              "        vertical-align: middle;\n",
              "    }\n",
              "\n",
              "    .dataframe tbody tr th {\n",
              "        vertical-align: top;\n",
              "    }\n",
              "\n",
              "    .dataframe thead th {\n",
              "        text-align: right;\n",
              "    }\n",
              "</style>\n",
              "<table border=\"1\" class=\"dataframe\">\n",
              "  <thead>\n",
              "    <tr style=\"text-align: right;\">\n",
              "      <th></th>\n",
              "      <th>test true Y</th>\n",
              "      <th>model predictions</th>\n",
              "    </tr>\n",
              "  </thead>\n",
              "  <tbody>\n",
              "    <tr>\n",
              "      <th>0</th>\n",
              "      <td>78.83</td>\n",
              "      <td>77.115540</td>\n",
              "    </tr>\n",
              "    <tr>\n",
              "      <th>1</th>\n",
              "      <td>75.00</td>\n",
              "      <td>75.646118</td>\n",
              "    </tr>\n",
              "    <tr>\n",
              "      <th>2</th>\n",
              "      <td>87.84</td>\n",
              "      <td>80.851006</td>\n",
              "    </tr>\n",
              "    <tr>\n",
              "      <th>3</th>\n",
              "      <td>76.25</td>\n",
              "      <td>79.767479</td>\n",
              "    </tr>\n",
              "    <tr>\n",
              "      <th>4</th>\n",
              "      <td>66.50</td>\n",
              "      <td>63.836647</td>\n",
              "    </tr>\n",
              "    <tr>\n",
              "      <th>5</th>\n",
              "      <td>54.84</td>\n",
              "      <td>56.982723</td>\n",
              "    </tr>\n",
              "    <tr>\n",
              "      <th>6</th>\n",
              "      <td>70.40</td>\n",
              "      <td>70.299553</td>\n",
              "    </tr>\n",
              "    <tr>\n",
              "      <th>7</th>\n",
              "      <td>83.75</td>\n",
              "      <td>82.107674</td>\n",
              "    </tr>\n",
              "    <tr>\n",
              "      <th>8</th>\n",
              "      <td>65.00</td>\n",
              "      <td>68.567535</td>\n",
              "    </tr>\n",
              "    <tr>\n",
              "      <th>9</th>\n",
              "      <td>76.00</td>\n",
              "      <td>77.520821</td>\n",
              "    </tr>\n",
              "    <tr>\n",
              "      <th>10</th>\n",
              "      <td>78.92</td>\n",
              "      <td>76.974945</td>\n",
              "    </tr>\n",
              "    <tr>\n",
              "      <th>11</th>\n",
              "      <td>75.59</td>\n",
              "      <td>74.820648</td>\n",
              "    </tr>\n",
              "    <tr>\n",
              "      <th>12</th>\n",
              "      <td>34.00</td>\n",
              "      <td>46.941750</td>\n",
              "    </tr>\n",
              "    <tr>\n",
              "      <th>13</th>\n",
              "      <td>70.00</td>\n",
              "      <td>66.996376</td>\n",
              "    </tr>\n",
              "    <tr>\n",
              "      <th>14</th>\n",
              "      <td>97.25</td>\n",
              "      <td>83.081421</td>\n",
              "    </tr>\n",
              "    <tr>\n",
              "      <th>15</th>\n",
              "      <td>63.07</td>\n",
              "      <td>55.326885</td>\n",
              "    </tr>\n",
              "    <tr>\n",
              "      <th>16</th>\n",
              "      <td>14.67</td>\n",
              "      <td>42.221935</td>\n",
              "    </tr>\n",
              "    <tr>\n",
              "      <th>17</th>\n",
              "      <td>61.67</td>\n",
              "      <td>70.000053</td>\n",
              "    </tr>\n",
              "    <tr>\n",
              "      <th>18</th>\n",
              "      <td>82.50</td>\n",
              "      <td>77.880829</td>\n",
              "    </tr>\n",
              "    <tr>\n",
              "      <th>19</th>\n",
              "      <td>80.80</td>\n",
              "      <td>84.633377</td>\n",
              "    </tr>\n",
              "    <tr>\n",
              "      <th>20</th>\n",
              "      <td>75.40</td>\n",
              "      <td>79.202011</td>\n",
              "    </tr>\n",
              "    <tr>\n",
              "      <th>21</th>\n",
              "      <td>52.17</td>\n",
              "      <td>64.757469</td>\n",
              "    </tr>\n",
              "    <tr>\n",
              "      <th>22</th>\n",
              "      <td>85.42</td>\n",
              "      <td>78.677048</td>\n",
              "    </tr>\n",
              "    <tr>\n",
              "      <th>23</th>\n",
              "      <td>62.75</td>\n",
              "      <td>72.763245</td>\n",
              "    </tr>\n",
              "    <tr>\n",
              "      <th>24</th>\n",
              "      <td>81.25</td>\n",
              "      <td>78.748528</td>\n",
              "    </tr>\n",
              "    <tr>\n",
              "      <th>25</th>\n",
              "      <td>66.00</td>\n",
              "      <td>58.339092</td>\n",
              "    </tr>\n",
              "    <tr>\n",
              "      <th>26</th>\n",
              "      <td>70.00</td>\n",
              "      <td>82.762955</td>\n",
              "    </tr>\n",
              "    <tr>\n",
              "      <th>27</th>\n",
              "      <td>76.09</td>\n",
              "      <td>76.794922</td>\n",
              "    </tr>\n",
              "    <tr>\n",
              "      <th>28</th>\n",
              "      <td>75.60</td>\n",
              "      <td>68.397659</td>\n",
              "    </tr>\n",
              "    <tr>\n",
              "      <th>29</th>\n",
              "      <td>67.08</td>\n",
              "      <td>61.805813</td>\n",
              "    </tr>\n",
              "    <tr>\n",
              "      <th>30</th>\n",
              "      <td>50.42</td>\n",
              "      <td>65.483711</td>\n",
              "    </tr>\n",
              "    <tr>\n",
              "      <th>31</th>\n",
              "      <td>59.63</td>\n",
              "      <td>67.112984</td>\n",
              "    </tr>\n",
              "  </tbody>\n",
              "</table>\n",
              "</div>"
            ],
            "text/plain": [
              "    test true Y  model predictions\n",
              "0         78.83          77.115540\n",
              "1         75.00          75.646118\n",
              "2         87.84          80.851006\n",
              "3         76.25          79.767479\n",
              "4         66.50          63.836647\n",
              "5         54.84          56.982723\n",
              "6         70.40          70.299553\n",
              "7         83.75          82.107674\n",
              "8         65.00          68.567535\n",
              "9         76.00          77.520821\n",
              "10        78.92          76.974945\n",
              "11        75.59          74.820648\n",
              "12        34.00          46.941750\n",
              "13        70.00          66.996376\n",
              "14        97.25          83.081421\n",
              "15        63.07          55.326885\n",
              "16        14.67          42.221935\n",
              "17        61.67          70.000053\n",
              "18        82.50          77.880829\n",
              "19        80.80          84.633377\n",
              "20        75.40          79.202011\n",
              "21        52.17          64.757469\n",
              "22        85.42          78.677048\n",
              "23        62.75          72.763245\n",
              "24        81.25          78.748528\n",
              "25        66.00          58.339092\n",
              "26        70.00          82.762955\n",
              "27        76.09          76.794922\n",
              "28        75.60          68.397659\n",
              "29        67.08          61.805813\n",
              "30        50.42          65.483711\n",
              "31        59.63          67.112984"
            ]
          },
          "metadata": {
            "tags": []
          },
          "execution_count": 90
        }
      ]
    },
    {
      "cell_type": "code",
      "metadata": {
        "colab": {
          "base_uri": "https://localhost:8080/"
        },
        "id": "ym3MaWoqLi_l",
        "outputId": "3a1ea4be-894a-4eb1-8453-898d01e788b1"
      },
      "source": [
        "from sklearn.metrics import mean_absolute_error,mean_squared_error\r\n",
        "mean_absolute_error(pred_df['test true Y'],pred_df['model predictions'])"
      ],
      "execution_count": 91,
      "outputs": [
        {
          "output_type": "execute_result",
          "data": {
            "text/plain": [
              "6.287794547080994"
            ]
          },
          "metadata": {
            "tags": []
          },
          "execution_count": 91
        }
      ]
    }
  ]
}