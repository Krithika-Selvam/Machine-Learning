{
  "nbformat": 4,
  "nbformat_minor": 0,
  "metadata": {
    "colab": {
      "name": "full data process.ipynb",
      "provenance": [],
      "collapsed_sections": [],
      "authorship_tag": "ABX9TyNSReJzKvEQiu+WhkSFFVvG",
      "include_colab_link": true
    },
    "kernelspec": {
      "name": "python3",
      "display_name": "Python 3"
    }
  },
  "cells": [
    {
      "cell_type": "markdown",
      "metadata": {
        "id": "view-in-github",
        "colab_type": "text"
      },
      "source": [
        "<a href=\"https://colab.research.google.com/github/Krithika-Selvam/Machine-Learning/blob/main/output.ipynb\" target=\"_parent\"><img src=\"https://colab.research.google.com/assets/colab-badge.svg\" alt=\"Open In Colab\"/></a>"
      ]
    },
    {
      "cell_type": "code",
      "metadata": {
        "id": "euApKVXu23yA"
      },
      "source": [
        "import pandas as pd\r\n",
        "import numpy as np"
      ],
      "execution_count": 92,
      "outputs": []
    },
    {
      "cell_type": "code",
      "metadata": {
        "id": "u0J_ighy8_z9"
      },
      "source": [
        "df=pd.read_csv('project.csv')\r\n",
        "df.head()"
      ],
      "execution_count": null,
      "outputs": []
    },
    {
      "cell_type": "code",
      "metadata": {
        "id": "ry3COm5G9xYf"
      },
      "source": [
        "from sklearn.model_selection import train_test_split\r\n",
        "x=df[['cs41','cs42','cs43','10th','12th','att','fp/aarnps','travh','netcon','rev']].values\r\n",
        "y=df['semgpa'].values\r\n",
        "x"
      ],
      "execution_count": null,
      "outputs": []
    },
    {
      "cell_type": "code",
      "metadata": {
        "colab": {
          "base_uri": "https://localhost:8080/"
        },
        "id": "JPRUjPbp_Jg-",
        "outputId": "ab6d98f2-c6fd-48b1-f304-e95afa589944"
      },
      "source": [
        "x_train,x_test,y_train,y_test=train_test_split(x,y,test_size=0.1,random_state=42)\r\n",
        "#normalize bteween 0 and 1\r\n",
        "from sklearn.preprocessing import MinMaxScaler\r\n",
        "scaler=MinMaxScaler()\r\n",
        "scaler.fit(x_train)\r\n",
        "x_train=scaler.transform(x_train)\r\n",
        "x_test=scaler.transform(x_test)\r\n",
        "x_train\r\n",
        "x_test\r\n"
      ],
      "execution_count": 94,
      "outputs": [
        {
          "output_type": "execute_result",
          "data": {
            "text/plain": [
              "array([[0.8003125 , 0.82202787, 0.81969429, 0.83836944, 0.76204101,\n",
              "        0.57142857, 0.        , 0.1       , 1.        , 1.        ],\n",
              "       [0.76041667, 0.74575409, 0.76084018, 0.80615735, 0.78159275,\n",
              "        0.17857143, 0.16666667, 0.1       , 1.        , 1.        ],\n",
              "       [0.88541667, 0.92209905, 0.91338255, 0.83751425, 0.77682403,\n",
              "        0.57142857, 0.        , 0.        , 1.        , 1.        ],\n",
              "       [0.85239583, 0.85599512, 0.86305501, 0.77194983, 0.91273247,\n",
              "        0.39285714, 0.        , 0.        , 1.        , 1.        ],\n",
              "       [0.76041667, 0.85599512, 0.81719871, 0.42987457, 0.56223176,\n",
              "        0.60714286, 0.        , 0.        , 1.        , 0.        ],\n",
              "       [0.55208333, 0.57632462, 0.5702402 , 0.75826682, 0.63423939,\n",
              "        0.82142857, 0.5       , 0.        , 0.        , 0.        ],\n",
              "       [0.859375  , 0.87287705, 0.87522096, 1.        , 0.90081068,\n",
              "        0.25464286, 0.        , 0.1       , 1.        , 0.        ],\n",
              "       [0.90447917, 0.89667446, 0.90984715, 0.88597491, 0.89079638,\n",
              "        0.89285714, 0.        , 0.1       , 1.        , 1.        ],\n",
              "       [0.77947917, 0.8321977 , 0.81449516, 0.89737742, 0.95088221,\n",
              "        0.21428571, 0.        , 0.        , 0.        , 0.        ],\n",
              "       [0.82114583, 0.88650463, 0.86305501, 0.76624857, 0.62422508,\n",
              "        0.21428571, 0.        , 0.        , 1.        , 1.        ],\n",
              "       [0.78302083, 0.84074036, 0.82063013, 0.86602052, 0.78755365,\n",
              "        0.82142857, 0.        , 0.1       , 1.        , 1.        ],\n",
              "       [0.78822917, 0.76782264, 0.78600395, 0.76339795, 0.69933238,\n",
              "        0.64285714, 0.        , 0.        , 1.        , 1.        ],\n",
              "       [0.328125  , 0.37119902, 0.35354061, 0.6949829 , 0.60991893,\n",
              "        0.25      , 0.83333333, 0.        , 1.        , 0.        ],\n",
              "       [0.859375  , 0.87257195, 0.875013  , 0.77194983, 0.41201717,\n",
              "        0.75      , 0.11111111, 0.1       , 1.        , 0.        ],\n",
              "       [1.0034375 , 0.99837283, 1.01123011, 0.88597491, 0.34048641,\n",
              "        0.67857143, 0.        , 0.1       , 1.        , 1.        ],\n",
              "       [0.52427083, 0.77087359, 0.65581782, 0.22748005, 0.25107296,\n",
              "        0.46428571, 0.5       , 0.        , 1.        , 0.        ],\n",
              "       [0.17010417, 0.13220787, 0.15254237, 0.83836944, 0.90462566,\n",
              "        0.75      , 1.        , 0.        , 0.        , 0.        ],\n",
              "       [0.61635417, 0.65259839, 0.64126027, 0.75427594, 0.84501669,\n",
              "        0.89285714, 0.33333333, 0.        , 1.        , 1.        ],\n",
              "       [0.86114583, 0.83728262, 0.85785588, 0.74657925, 0.56294707,\n",
              "        0.32142857, 0.        , 0.1       , 1.        , 1.        ],\n",
              "       [0.94270833, 0.95260856, 0.95757513, 0.96009122, 0.94253696,\n",
              "        0.75      , 0.        , 0.1       , 1.        , 1.        ],\n",
              "       [0.8628125 , 0.88650463, 0.88385151, 0.77194983, 0.67429661,\n",
              "        0.89285714, 0.        , 0.1       , 1.        , 1.        ],\n",
              "       [0.4653125 , 0.60683413, 0.54247686, 0.85917902, 0.65712923,\n",
              "        0.03571429, 0.5       , 0.        , 1.        , 1.        ],\n",
              "       [0.87677083, 0.88141971, 0.88821878, 0.67844926, 0.56747735,\n",
              "        0.10714286, 0.        , 0.        , 1.        , 1.        ],\n",
              "       [0.64239583, 0.64914065, 0.65249038, 0.66647662, 0.81497377,\n",
              "        0.17857143, 0.44444444, 0.        , 0.        , 1.        ],\n",
              "       [0.78302083, 0.8881318 , 0.84485806, 0.86259977, 0.83834049,\n",
              "        0.46428571, 0.11111111, 0.1       , 1.        , 1.        ],\n",
              "       [0.66145833, 0.69663378, 0.6862847 , 0.45210946, 0.31664282,\n",
              "        0.35714286, 0.27777778, 0.1       , 1.        , 0.        ],\n",
              "       [0.97395833, 0.95260856, 0.97317251, 0.77194983, 0.56294707,\n",
              "        0.92857143, 0.        , 0.1       , 1.        , 1.        ],\n",
              "       [0.80385417, 0.76273772, 0.79120308, 0.73717218, 0.83071054,\n",
              "        0.28571429, 0.        , 0.1       , 1.        , 1.        ],\n",
              "       [0.55729167, 0.54581511, 0.55724238, 0.92018244, 0.90796376,\n",
              "        0.46428571, 0.5       , 0.1       , 1.        , 1.        ],\n",
              "       [0.61802083, 0.76100885, 0.69751482, 0.8004561 , 0.8078207 ,\n",
              "        0.14285714, 0.27777778, 0.1       , 1.        , 0.        ],\n",
              "       [0.49479167, 0.54235737, 0.52427992, 0.79732041, 0.8051979 ,\n",
              "        0.78571429, 0.61111111, 0.        , 1.        , 1.        ],\n",
              "       [0.48958333, 0.73477067, 0.62004783, 0.90307868, 0.62660944,\n",
              "        0.60714286, 0.5       , 0.        , 1.        , 1.        ]])"
            ]
          },
          "metadata": {
            "tags": []
          },
          "execution_count": 94
        }
      ]
    },
    {
      "cell_type": "code",
      "metadata": {
        "id": "mCQIlTCzBqaQ"
      },
      "source": [
        "from tensorflow.keras.models import Sequential\r\n",
        "from tensorflow.keras.layers import Dense\r\n",
        "model=Sequential()\r\n",
        "model.add(Dense(4,activation='relu'))\r\n",
        "model.add(Dense(4,activation='relu'))\r\n",
        "model.add(Dense(4,activation='relu'))\r\n",
        "model.add(Dense(4,activation='relu'))\r\n",
        "#model.add(Dense(4,activation='relu'))\r\n",
        "#model.add(Dense(4,activation='relu'))\r\n",
        "#model.add(Dense(4,activation='relu'))\r\n",
        "model.add(Dense(1))\r\n",
        "model.compile(optimizer='rmsprop',loss='mse')\r\n"
      ],
      "execution_count": 95,
      "outputs": []
    },
    {
      "cell_type": "code",
      "metadata": {
        "id": "7nlNS74dFcqI"
      },
      "source": [
        "model.fit(x=x_train,y=y_train,epochs=700)#one pass over the dataset"
      ],
      "execution_count": null,
      "outputs": []
    },
    {
      "cell_type": "code",
      "metadata": {
        "id": "MP-xu14eGTja"
      },
      "source": [
        "pd.DataFrame(model.history.history)"
      ],
      "execution_count": null,
      "outputs": []
    },
    {
      "cell_type": "code",
      "metadata": {
        "colab": {
          "base_uri": "https://localhost:8080/"
        },
        "id": "rm2S07ZYGplb",
        "outputId": "f21c9ebb-6b63-462c-dd70-136e2ab713da"
      },
      "source": [
        "model.evaluate(x_test,y_test,verbose=0)"
      ],
      "execution_count": 98,
      "outputs": [
        {
          "output_type": "execute_result",
          "data": {
            "text/plain": [
              "73.91963195800781"
            ]
          },
          "metadata": {
            "tags": []
          },
          "execution_count": 98
        }
      ]
    },
    {
      "cell_type": "code",
      "metadata": {
        "colab": {
          "base_uri": "https://localhost:8080/"
        },
        "id": "-Dg6rN5AHLlJ",
        "outputId": "5e18d9a7-019f-4966-f40c-1ff24f3e7556"
      },
      "source": [
        "model.evaluate(x_train,y_train,verbose=0)"
      ],
      "execution_count": 99,
      "outputs": [
        {
          "output_type": "execute_result",
          "data": {
            "text/plain": [
              "68.1775894165039"
            ]
          },
          "metadata": {
            "tags": []
          },
          "execution_count": 99
        }
      ]
    },
    {
      "cell_type": "code",
      "metadata": {
        "id": "rrlEzctuH5gr"
      },
      "source": [
        "test_predictions=model.predict(x_test)\r\n",
        "test_predictions"
      ],
      "execution_count": null,
      "outputs": []
    },
    {
      "cell_type": "code",
      "metadata": {
        "id": "Ecun1XsdIPNf"
      },
      "source": [
        "test_predictions=pd.Series(test_predictions.reshape(32,))\r\n",
        "test_predictions\r\n"
      ],
      "execution_count": null,
      "outputs": []
    },
    {
      "cell_type": "code",
      "metadata": {
        "colab": {
          "base_uri": "https://localhost:8080/",
          "height": 994
        },
        "id": "Nx8i-cGII0Uz",
        "outputId": "d8f883bc-727d-4366-d8f4-38e363555df5"
      },
      "source": [
        "pred_df=pd.DataFrame(y_test,columns=['Prediction Values'])\r\n",
        "pred_df=pd.concat([pred_df,test_predictions],axis=1)\r\n",
        "pred_df.columns=['test true Y','model predictions']\r\n",
        "pred_df"
      ],
      "execution_count": 103,
      "outputs": [
        {
          "output_type": "execute_result",
          "data": {
            "text/html": [
              "<div>\n",
              "<style scoped>\n",
              "    .dataframe tbody tr th:only-of-type {\n",
              "        vertical-align: middle;\n",
              "    }\n",
              "\n",
              "    .dataframe tbody tr th {\n",
              "        vertical-align: top;\n",
              "    }\n",
              "\n",
              "    .dataframe thead th {\n",
              "        text-align: right;\n",
              "    }\n",
              "</style>\n",
              "<table border=\"1\" class=\"dataframe\">\n",
              "  <thead>\n",
              "    <tr style=\"text-align: right;\">\n",
              "      <th></th>\n",
              "      <th>test true Y</th>\n",
              "      <th>model predictions</th>\n",
              "    </tr>\n",
              "  </thead>\n",
              "  <tbody>\n",
              "    <tr>\n",
              "      <th>0</th>\n",
              "      <td>78.83</td>\n",
              "      <td>77.958107</td>\n",
              "    </tr>\n",
              "    <tr>\n",
              "      <th>1</th>\n",
              "      <td>75.00</td>\n",
              "      <td>76.472313</td>\n",
              "    </tr>\n",
              "    <tr>\n",
              "      <th>2</th>\n",
              "      <td>87.84</td>\n",
              "      <td>81.869690</td>\n",
              "    </tr>\n",
              "    <tr>\n",
              "      <th>3</th>\n",
              "      <td>76.25</td>\n",
              "      <td>80.332901</td>\n",
              "    </tr>\n",
              "    <tr>\n",
              "      <th>4</th>\n",
              "      <td>66.50</td>\n",
              "      <td>64.241829</td>\n",
              "    </tr>\n",
              "    <tr>\n",
              "      <th>5</th>\n",
              "      <td>54.84</td>\n",
              "      <td>57.836864</td>\n",
              "    </tr>\n",
              "    <tr>\n",
              "      <th>6</th>\n",
              "      <td>70.40</td>\n",
              "      <td>71.021515</td>\n",
              "    </tr>\n",
              "    <tr>\n",
              "      <th>7</th>\n",
              "      <td>83.75</td>\n",
              "      <td>82.977623</td>\n",
              "    </tr>\n",
              "    <tr>\n",
              "      <th>8</th>\n",
              "      <td>65.00</td>\n",
              "      <td>68.925980</td>\n",
              "    </tr>\n",
              "    <tr>\n",
              "      <th>9</th>\n",
              "      <td>76.00</td>\n",
              "      <td>78.600906</td>\n",
              "    </tr>\n",
              "    <tr>\n",
              "      <th>10</th>\n",
              "      <td>78.92</td>\n",
              "      <td>77.818275</td>\n",
              "    </tr>\n",
              "    <tr>\n",
              "      <th>11</th>\n",
              "      <td>75.59</td>\n",
              "      <td>75.621834</td>\n",
              "    </tr>\n",
              "    <tr>\n",
              "      <th>12</th>\n",
              "      <td>34.00</td>\n",
              "      <td>47.690628</td>\n",
              "    </tr>\n",
              "    <tr>\n",
              "      <th>13</th>\n",
              "      <td>70.00</td>\n",
              "      <td>68.430344</td>\n",
              "    </tr>\n",
              "    <tr>\n",
              "      <th>14</th>\n",
              "      <td>97.25</td>\n",
              "      <td>85.167526</td>\n",
              "    </tr>\n",
              "    <tr>\n",
              "      <th>15</th>\n",
              "      <td>63.07</td>\n",
              "      <td>56.253353</td>\n",
              "    </tr>\n",
              "    <tr>\n",
              "      <th>16</th>\n",
              "      <td>14.67</td>\n",
              "      <td>42.442326</td>\n",
              "    </tr>\n",
              "    <tr>\n",
              "      <th>17</th>\n",
              "      <td>61.67</td>\n",
              "      <td>70.622032</td>\n",
              "    </tr>\n",
              "    <tr>\n",
              "      <th>18</th>\n",
              "      <td>82.50</td>\n",
              "      <td>79.028320</td>\n",
              "    </tr>\n",
              "    <tr>\n",
              "      <th>19</th>\n",
              "      <td>80.80</td>\n",
              "      <td>85.607986</td>\n",
              "    </tr>\n",
              "    <tr>\n",
              "      <th>20</th>\n",
              "      <td>75.40</td>\n",
              "      <td>80.247963</td>\n",
              "    </tr>\n",
              "    <tr>\n",
              "      <th>21</th>\n",
              "      <td>52.17</td>\n",
              "      <td>65.844055</td>\n",
              "    </tr>\n",
              "    <tr>\n",
              "      <th>22</th>\n",
              "      <td>85.42</td>\n",
              "      <td>79.784073</td>\n",
              "    </tr>\n",
              "    <tr>\n",
              "      <th>23</th>\n",
              "      <td>62.75</td>\n",
              "      <td>73.435616</td>\n",
              "    </tr>\n",
              "    <tr>\n",
              "      <th>24</th>\n",
              "      <td>81.25</td>\n",
              "      <td>79.657700</td>\n",
              "    </tr>\n",
              "    <tr>\n",
              "      <th>25</th>\n",
              "      <td>66.00</td>\n",
              "      <td>59.274891</td>\n",
              "    </tr>\n",
              "    <tr>\n",
              "      <th>26</th>\n",
              "      <td>70.00</td>\n",
              "      <td>84.199989</td>\n",
              "    </tr>\n",
              "    <tr>\n",
              "      <th>27</th>\n",
              "      <td>76.09</td>\n",
              "      <td>77.298195</td>\n",
              "    </tr>\n",
              "    <tr>\n",
              "      <th>28</th>\n",
              "      <td>75.60</td>\n",
              "      <td>69.149445</td>\n",
              "    </tr>\n",
              "    <tr>\n",
              "      <th>29</th>\n",
              "      <td>67.08</td>\n",
              "      <td>62.357723</td>\n",
              "    </tr>\n",
              "    <tr>\n",
              "      <th>30</th>\n",
              "      <td>50.42</td>\n",
              "      <td>66.329575</td>\n",
              "    </tr>\n",
              "    <tr>\n",
              "      <th>31</th>\n",
              "      <td>59.63</td>\n",
              "      <td>68.487457</td>\n",
              "    </tr>\n",
              "  </tbody>\n",
              "</table>\n",
              "</div>"
            ],
            "text/plain": [
              "    test true Y  model predictions\n",
              "0         78.83          77.958107\n",
              "1         75.00          76.472313\n",
              "2         87.84          81.869690\n",
              "3         76.25          80.332901\n",
              "4         66.50          64.241829\n",
              "5         54.84          57.836864\n",
              "6         70.40          71.021515\n",
              "7         83.75          82.977623\n",
              "8         65.00          68.925980\n",
              "9         76.00          78.600906\n",
              "10        78.92          77.818275\n",
              "11        75.59          75.621834\n",
              "12        34.00          47.690628\n",
              "13        70.00          68.430344\n",
              "14        97.25          85.167526\n",
              "15        63.07          56.253353\n",
              "16        14.67          42.442326\n",
              "17        61.67          70.622032\n",
              "18        82.50          79.028320\n",
              "19        80.80          85.607986\n",
              "20        75.40          80.247963\n",
              "21        52.17          65.844055\n",
              "22        85.42          79.784073\n",
              "23        62.75          73.435616\n",
              "24        81.25          79.657700\n",
              "25        66.00          59.274891\n",
              "26        70.00          84.199989\n",
              "27        76.09          77.298195\n",
              "28        75.60          69.149445\n",
              "29        67.08          62.357723\n",
              "30        50.42          66.329575\n",
              "31        59.63          68.487457"
            ]
          },
          "metadata": {
            "tags": []
          },
          "execution_count": 103
        }
      ]
    },
    {
      "cell_type": "code",
      "metadata": {
        "colab": {
          "base_uri": "https://localhost:8080/"
        },
        "id": "ym3MaWoqLi_l",
        "outputId": "53f71722-70c7-42ef-8a3b-3ac57c86b379"
      },
      "source": [
        "from sklearn.metrics import mean_absolute_error,mean_squared_error\r\n",
        "mean_absolute_error(pred_df['test true Y'],pred_df['model predictions'])"
      ],
      "execution_count": 104,
      "outputs": [
        {
          "output_type": "execute_result",
          "data": {
            "text/plain": [
              "6.261851134300231"
            ]
          },
          "metadata": {
            "tags": []
          },
          "execution_count": 104
        }
      ]
    }
  ]
}